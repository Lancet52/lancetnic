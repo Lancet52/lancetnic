{
 "cells": [
  {
   "cell_type": "markdown",
   "metadata": {},
   "source": [
    "# Обучение\n"
   ]
  },
  {
   "cell_type": "code",
   "execution_count": null,
   "metadata": {},
   "outputs": [],
   "source": [
    "from lancetnic.models import LancetBC\n",
    "from lancetnic import Binary\n",
    "\n",
    "model = Binary()\n",
    "model.train(model_name=LancetBC,\n",
    "            train_path=\"datasets/spam_train.csv\",\n",
    "            val_path=\"datasets/spam_val.csv\",\n",
    "            num_epochs=50\n",
    "            )\n",
    "            "
   ]
  },
  {
   "cell_type": "markdown",
   "metadata": {},
   "source": [
    "### Инференс модели"
   ]
  },
  {
   "cell_type": "code",
   "execution_count": null,
   "metadata": {},
   "outputs": [],
   "source": [
    "from lancetnic import Predictor\n",
    "pred=Predictor()\n",
    "pred.predict(model_path=\"runs/train_3/last_model.pth\",\n",
    "             text=\"Септик продам 125.000 Модель 3+с доставкой и монтажом\"\n",
    "             )"
   ]
  }
 ],
 "metadata": {
  "kernelspec": {
   "display_name": ".venv",
   "language": "python",
   "name": "python3"
  },
  "language_info": {
   "codemirror_mode": {
    "name": "ipython",
    "version": 3
   },
   "file_extension": ".py",
   "mimetype": "text/x-python",
   "name": "python",
   "nbconvert_exporter": "python",
   "pygments_lexer": "ipython3",
   "version": "3.10.9"
  }
 },
 "nbformat": 4,
 "nbformat_minor": 2
}
