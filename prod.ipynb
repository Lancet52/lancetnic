{
 "cells": [
  {
   "cell_type": "markdown",
   "metadata": {},
   "source": [
    "# Обучение\n"
   ]
  },
  {
   "cell_type": "code",
   "execution_count": null,
   "metadata": {},
   "outputs": [],
   "source": [
    "from lancetnic.models import LancetBC\n",
    "from lancetnic import Binary\n",
    "\n",
    "model = Binary()\n",
    "model.train(model_name=LancetBC,\n",
    "            train_path=\"datasets/spam_train.csv\",\n",
    "            val_path=\"datasets/spam_val.csv\",\n",
    "            num_epochs=100\n",
    "            )\n",
    "            "
   ]
  },
  {
   "cell_type": "markdown",
   "metadata": {},
   "source": [
    "### Инференс модели"
   ]
  },
  {
   "cell_type": "code",
   "execution_count": null,
   "metadata": {},
   "outputs": [],
   "source": [
    "from lancetnic import Predictor\n",
    "pred=Predictor()\n",
    "prediction=pred.predict(model_path=\"lancetnic/models/lancet_v1/lancet_v1_bc.pth\",\n",
    "             text=\"Ctgnbr\"\n",
    "             )\n",
    "\n",
    "print(prediction)"
   ]
  },
  {
   "cell_type": "markdown",
   "metadata": {},
   "source": [
    "## Выявление спама для телеграма"
   ]
  },
  {
   "cell_type": "code",
   "execution_count": null,
   "metadata": {},
   "outputs": [
    {
     "name": "stdout",
     "output_type": "stream",
     "text": [
      "Закончено!\n"
     ]
    }
   ],
   "source": [
    "from lancetnic import Predictor\n",
    "\n",
    "\n",
    "with open('test/tests.txt', 'r', encoding='utf-8') as file:\n",
    "    lines = file.readlines()  # Читаем все строки\n",
    "file.close()\n",
    "# Фильтруем пустые строки \n",
    "filtered_lines = [line for line in lines if line.strip() != '']\n",
    "\n",
    "# Перезаписываем файл без пустых строк\n",
    "with open('test/output.txt', 'w', encoding='utf-8') as file:\n",
    "    file.writelines(filtered_lines)\n",
    "    \n",
    "with open(\"test/output.txt\", \"r\", encoding=\"utf8\") as file:\n",
    "    txt = file.readlines()\n",
    "    filtered = [s for s in txt if '[' not in s and ']' not in s]\n",
    "    cleaned = [line.strip() for line in filtered]\n",
    " \n",
    "with open('test/output_final.txt', 'w', encoding='utf-8') as file:\n",
    "    \n",
    "    for i in cleaned:\n",
    "        pred=Predictor()     \n",
    "        prediction=pred.predict(model_path=\"test/best_model.pth\", \n",
    "                                text=i\n",
    "                                )\n",
    "        if prediction==\"spam\":\n",
    "            file.writelines(f\"{i}\\n\")\n",
    "\n",
    "print(\"Закончено!\")\n",
    "\n",
    "\n"
   ]
  }
 ],
 "metadata": {
  "kernelspec": {
   "display_name": ".venv",
   "language": "python",
   "name": "python3"
  },
  "language_info": {
   "codemirror_mode": {
    "name": "ipython",
    "version": 3
   },
   "file_extension": ".py",
   "mimetype": "text/x-python",
   "name": "python",
   "nbconvert_exporter": "python",
   "pygments_lexer": "ipython3",
   "version": "3.10.9"
  }
 },
 "nbformat": 4,
 "nbformat_minor": 2
}
